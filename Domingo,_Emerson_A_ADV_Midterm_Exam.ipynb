{
  "nbformat": 4,
  "nbformat_minor": 0,
  "metadata": {
    "colab": {
      "provenance": [],
      "authorship_tag": "ABX9TyNCRwuBjUg92FNAfNstlc4q",
      "include_colab_link": true
    },
    "kernelspec": {
      "name": "python3",
      "display_name": "Python 3"
    },
    "language_info": {
      "name": "python"
    }
  },
  "cells": [
    {
      "cell_type": "markdown",
      "metadata": {
        "id": "view-in-github",
        "colab_type": "text"
      },
      "source": [
        "<a href=\"https://colab.research.google.com/github/EMERSON06/Domingo-Emerson-A-ADV-Midterm-Exam.ipynb/blob/main/Domingo%2C_Emerson_A_ADV_Midterm_Exam.ipynb\" target=\"_parent\"><img src=\"https://colab.research.google.com/assets/colab-badge.svg\" alt=\"Open In Colab\"/></a>"
      ]
    },
    {
      "cell_type": "markdown",
      "source": [
        "Capitalize the first word of the variable name:\n",
        "name = input(\"What is your name? \")\n",
        "print(\"Hello\", name.???())\n",
        "age = input(\"How old are you? \")\n",
        "print(\"You are\", age, \"years old\")"
      ],
      "metadata": {
        "id": "NGSdXSfA5ubv"
      }
    },
    {
      "cell_type": "code",
      "execution_count": 2,
      "metadata": {
        "colab": {
          "base_uri": "https://localhost:8080/"
        },
        "id": "WUE5d3qcxpXh",
        "outputId": "c5e348ac-fe9a-4c6a-f98f-0a238cd1a3bd"
      },
      "outputs": [
        {
          "output_type": "stream",
          "name": "stdout",
          "text": [
            "What is your name? emerson\n",
            "Hello Emerson\n",
            "How old are you? 21\n",
            "You are 21 years old\n"
          ]
        }
      ],
      "source": [
        "name = input(\"What is your name? \")\n",
        "print(\"Hello\", name.capitalize())\n",
        "age = input(\"How old are you? \")\n",
        "print(\"You are\", age, \"years old\")"
      ]
    },
    {
      "cell_type": "markdown",
      "source": [
        "Capitalize the first letter stored in the variable:"
      ],
      "metadata": {
        "id": "3We1zJiJ516Z"
      }
    },
    {
      "cell_type": "code",
      "source": [
        "s = \"pizza\"\n",
        "t = s[0].upper()\n",
        "s.capitalize()\n",
        "print(t)"
      ],
      "metadata": {
        "colab": {
          "base_uri": "https://localhost:8080/"
        },
        "id": "srbe2AlfzXQs",
        "outputId": "4c4d116c-635c-49a9-865e-8b51fff63957"
      },
      "execution_count": 3,
      "outputs": [
        {
          "output_type": "stream",
          "name": "stdout",
          "text": [
            "P\n"
          ]
        }
      ]
    },
    {
      "cell_type": "markdown",
      "source": [
        "Capitalize all the letters stored in the variable:\n"
      ],
      "metadata": {
        "id": "jAO-YHVJ5_Ku"
      }
    },
    {
      "cell_type": "code",
      "source": [
        "s = \"pizza\"\n",
        "t = s.upper()\n",
        "print(t)"
      ],
      "metadata": {
        "colab": {
          "base_uri": "https://localhost:8080/"
        },
        "id": "f2xgpQLazr-M",
        "outputId": "41d1dd07-b557-487e-d41a-ef45707ec462"
      },
      "execution_count": 4,
      "outputs": [
        {
          "output_type": "stream",
          "name": "stdout",
          "text": [
            "PIZZA\n"
          ]
        }
      ]
    },
    {
      "cell_type": "markdown",
      "source": [
        "Convert to lowercase all the letters stored in the variable:"
      ],
      "metadata": {
        "id": "CuBFIubo6CEc"
      }
    },
    {
      "cell_type": "code",
      "source": [
        "s = \"pizza\"\n",
        "t = s.lower()\n",
        "print(t)\n"
      ],
      "metadata": {
        "colab": {
          "base_uri": "https://localhost:8080/"
        },
        "id": "cjVbVjsQ0Eb9",
        "outputId": "99e05f06-dd38-4eba-854f-d8c051cfa0f2"
      },
      "execution_count": 6,
      "outputs": [
        {
          "output_type": "stream",
          "name": "stdout",
          "text": [
            "pizza\n"
          ]
        }
      ]
    },
    {
      "cell_type": "markdown",
      "source": [
        "Replace R with P and d with l"
      ],
      "metadata": {
        "id": "tV06nwGH6G9d"
      }
    },
    {
      "cell_type": "code",
      "source": [
        "name = \"Read\"\n",
        "new_name = name.replace('R', 'P').replace('d', 'l')\n",
        "print(new_name)"
      ],
      "metadata": {
        "colab": {
          "base_uri": "https://localhost:8080/"
        },
        "id": "q3B2sRGz0Rcm",
        "outputId": "2627cff4-f56c-44ec-c31b-7fed7c1b279e"
      },
      "execution_count": 8,
      "outputs": [
        {
          "output_type": "stream",
          "name": "stdout",
          "text": [
            "Peal\n"
          ]
        }
      ]
    },
    {
      "cell_type": "markdown",
      "source": [
        "Determine the data type of the following by one line of code:\n",
        "a = 2\n",
        "b = 3\n",
        "c = 2.3\n",
        "d = true\n",
        "\n",
        "expected output: (int, int, float, bool)"
      ],
      "metadata": {
        "id": "XGmRW7l76WRH"
      }
    },
    {
      "cell_type": "code",
      "source": [
        "a = 2\n",
        "b = 3\n",
        "c = 2.3\n",
        "d = True\n",
        "print(type(a), type(b), type(c), type(d))"
      ],
      "metadata": {
        "colab": {
          "base_uri": "https://localhost:8080/"
        },
        "id": "f3Gik0On07nz",
        "outputId": "da150713-9bf4-42bb-ad99-61522fa1b832"
      },
      "execution_count": 12,
      "outputs": [
        {
          "output_type": "stream",
          "name": "stdout",
          "text": [
            "<class 'int'> <class 'int'> <class 'float'> <class 'bool'>\n"
          ]
        }
      ]
    },
    {
      "cell_type": "markdown",
      "source": [
        "Determine the error if there are errors and replace with the correct \n",
        "code:"
      ],
      "metadata": {
        "id": "qj5F18656dJu"
      }
    },
    {
      "cell_type": "code",
      "source": [
        "name = input(\"What is your name? \") # Rune\n",
        "print(f\"Hello {name}!\")\n",
        "birth_year = input(\"What is your birth year? \")\n",
        "birth_year = int(birth_year)\n",
        "print(f\"You are {2023 - birth_year} years old!\")\n"
      ],
      "metadata": {
        "colab": {
          "base_uri": "https://localhost:8080/"
        },
        "id": "UH4VGRu52pfq",
        "outputId": "f2b17592-2493-4b26-b8a7-84ae88332d50"
      },
      "execution_count": 13,
      "outputs": [
        {
          "output_type": "stream",
          "name": "stdout",
          "text": [
            "What is your name? Emerson\n",
            "Hello Emerson!\n",
            "What is your birth year? 2001\n",
            "You are 22 years old!\n"
          ]
        }
      ]
    },
    {
      "cell_type": "markdown",
      "source": [
        "Determine the error if there are errors and replace with the correct \n",
        "code:"
      ],
      "metadata": {
        "id": "U_hBRjl_6jwE"
      }
    },
    {
      "cell_type": "code",
      "source": [
        "s1 = input(\"Enter the first number: \")\n",
        "s2 = input(\"Enter the second number: \")\n",
        "Add = float(s1) + float(s2)\n",
        "print('Sum: {0} + {1} = {2}'.format(s1, s2, Add))\n",
        "Subtract = float(s1) - float(s2)\n",
        "print('Difference: {0} - {1} = {2}'.format(s1, s2, Subtract))\n",
        "Multiply = float(s1) * float(s2)\n",
        "print('Product: {0} * {1} = {2}'.format(s1, s2, Multiply))\n",
        "Divide = float(s1) / float(s2)\n",
        "print('Quotient: {0} / {1} = {2}'.format(s1, s2, Divide))\n",
        "Exponent = float(s1) ** float(s2)\n",
        "print('Power: {0} ** {1} = {2}'.format(s1, s2, Exponent))\n",
        "Remainder = float(s1) % float(s2)\n",
        "print('Division with Remainder: {0} / {1} = {2}\\nRemainder: {2}'.format(s1, s2, Divide, Remainder))"
      ],
      "metadata": {
        "colab": {
          "base_uri": "https://localhost:8080/"
        },
        "id": "MF4SdhnD3EJN",
        "outputId": "9b81b383-59ce-4137-93b5-83054d7be7f9"
      },
      "execution_count": 14,
      "outputs": [
        {
          "output_type": "stream",
          "name": "stdout",
          "text": [
            "Enter the first number: 5\n",
            "Enter the second number: 3\n",
            "Sum: 5 + 3 = 8.0\n",
            "Difference: 5 - 3 = 2.0\n",
            "Product: 5 * 3 = 15.0\n",
            "Quotient: 5 / 3 = 1.6666666666666667\n",
            "Power: 5 ** 3 = 125.0\n",
            "Division with Remainder: 5 / 3 = 1.6666666666666667\n",
            "Remainder: 1.6666666666666667\n"
          ]
        }
      ]
    },
    {
      "cell_type": "markdown",
      "source": [
        "What is the expected output of the statement presented below, Why?\n",
        "\n",
        "Answer: The expected output of the first statement is \"5\", because the code first assigns the value 5 to the variable \"num\", and then checks whether it is greater than 0 and less than 15."
      ],
      "metadata": {
        "id": "mZ2_Lc2f6nVb"
      }
    },
    {
      "cell_type": "code",
      "source": [
        "num = 5 \n",
        "if num > 0 and num < 15: \n",
        " print(num)"
      ],
      "metadata": {
        "colab": {
          "base_uri": "https://localhost:8080/"
        },
        "id": "a3FumZDJ3fw6",
        "outputId": "efd63a71-b0a9-4f1f-b44c-bcc9c47a54f8"
      },
      "execution_count": 16,
      "outputs": [
        {
          "output_type": "stream",
          "name": "stdout",
          "text": [
            "5\n"
          ]
        }
      ]
    },
    {
      "cell_type": "markdown",
      "source": [
        "Use the correct comparison operator to check if 5 is not equal to 10\n",
        "if 5 ??? 10:\n",
        " print(\"5 and 10 is not equal\")"
      ],
      "metadata": {
        "id": "jaqqczUk68KV"
      }
    },
    {
      "cell_type": "code",
      "source": [
        "if 5!=10:\n",
        " print(\"5 and 10 is not equal\")"
      ],
      "metadata": {
        "colab": {
          "base_uri": "https://localhost:8080/"
        },
        "id": "vavb1ta66_ny",
        "outputId": "f33595c0-abf6-4faa-a9aa-3e82dc971222"
      },
      "execution_count": 18,
      "outputs": [
        {
          "output_type": "stream",
          "name": "stdout",
          "text": [
            "5 and 10 is not equal\n"
          ]
        }
      ]
    },
    {
      "cell_type": "markdown",
      "source": [
        "Determine errors and the expected output of the statement presented \n",
        "below:\n"
      ],
      "metadata": {
        "id": "eJ4jM2vm7Rpf"
      }
    },
    {
      "cell_type": "code",
      "source": [
        "choice = int(input(\"Enter your choice:\"))\n",
        "#User's choice [1,2,3,4] if (choice>=1 and choice <=4):\n",
        "print(\"Enter two numbers: \")\n",
        "num1 = float(input())\n",
        "num2 = float(input())\n",
        "if choice == 1: \n",
        " res = num1 + num2\n",
        " print(\"Result = \", res)\n",
        "elif choice == 2:\n",
        " res = num1 - num2\n",
        " print(\"Result = \", res)\n",
        "elif choice == 3:\n",
        " res = num1 * num2\n",
        " print(\"Result = \", res)\n",
        "elif choice == 4:\n",
        " res = num1 / num2\n",
        " print(\"Result = \", res)\n",
        "elif choice == 5:\n",
        " exit()\n",
        "else: \n",
        " print(\"Wrong input..!!\")\n"
      ],
      "metadata": {
        "colab": {
          "base_uri": "https://localhost:8080/"
        },
        "id": "w2Tgr2S27ZYs",
        "outputId": "30a9aa48-965e-4923-bae7-e25efbc5fc4c"
      },
      "execution_count": 20,
      "outputs": [
        {
          "output_type": "stream",
          "name": "stdout",
          "text": [
            "Enter your choice:1\n",
            "Enter two numbers: \n",
            "3\n",
            "1\n",
            "Result =  4.0\n"
          ]
        }
      ]
    },
    {
      "cell_type": "markdown",
      "source": [
        "Access the last index of the list:\n",
        "thislist = [\"apple\", \"banana\", \"cherry\"]\n",
        "print(thislist[???])"
      ],
      "metadata": {
        "id": "G3Bw3o4I8v99"
      }
    },
    {
      "cell_type": "code",
      "source": [
        "thislist = [\"apple\", \"banana\", \"cherry\"]\n",
        "print(thislist[2])"
      ],
      "metadata": {
        "colab": {
          "base_uri": "https://localhost:8080/"
        },
        "id": "17hI1pyx8yob",
        "outputId": "0ffe4c50-f465-4efd-a9fc-04cf343598d4"
      },
      "execution_count": 21,
      "outputs": [
        {
          "output_type": "stream",
          "name": "stdout",
          "text": [
            "cherry\n"
          ]
        }
      ]
    },
    {
      "cell_type": "markdown",
      "source": [
        "Change the second index of the list into blackcurrant:\n",
        "thislist = [\"apple\", \"banana\", \"cherry\"]\n",
        "thislist[???] = \"???\"\n",
        "[1] = \"blackcurrant\"\n",
        "print(thislist)\n"
      ],
      "metadata": {
        "id": "ZHGYoXoe858e"
      }
    },
    {
      "cell_type": "code",
      "source": [
        "thislist = [\"apple\", \"banana\", \"cherry\"]\n",
        "thislist[1] = \"blackcurrant\"\n",
        "print(thislist)\n"
      ],
      "metadata": {
        "colab": {
          "base_uri": "https://localhost:8080/"
        },
        "id": "53Jfw7fr8_Rf",
        "outputId": "713b9243-021b-49de-cfdc-6b948dcc9148"
      },
      "execution_count": 22,
      "outputs": [
        {
          "output_type": "stream",
          "name": "stdout",
          "text": [
            "['apple', 'blackcurrant', 'cherry']\n"
          ]
        }
      ]
    },
    {
      "cell_type": "markdown",
      "source": [
        "Add or append an orange as an additional item in the list:\n",
        "thislist = [\"apple\", \"banana\", \"cherry\"]\n",
        "thislist.???(\"???\")\n",
        ".append(\"orange\")\n",
        "print(thislist)"
      ],
      "metadata": {
        "id": "Qeg74Cb89IZi"
      }
    },
    {
      "cell_type": "code",
      "source": [
        "thislist = [\"apple\", \"banana\", \"cherry\"]\n",
        "thislist.append(\"orange\")\n",
        "print(thislist)\n"
      ],
      "metadata": {
        "colab": {
          "base_uri": "https://localhost:8080/"
        },
        "id": "X-GmDPsS9PFC",
        "outputId": "ec886ccd-340b-4128-8d39-9b565e0858e7"
      },
      "execution_count": 23,
      "outputs": [
        {
          "output_type": "stream",
          "name": "stdout",
          "text": [
            "['apple', 'banana', 'cherry', 'orange']\n"
          ]
        }
      ]
    },
    {
      "cell_type": "markdown",
      "source": [
        "Remove the 4th index occurrence of a value in the list:\n",
        "x = [7, 4, 3, 2, 5]\n",
        "x.???(???)\n",
        "x.remove(5)\n",
        "print(x)\n",
        "expected output: [7, 4, 3, 2]"
      ],
      "metadata": {
        "id": "k8nKnHAW9Wvu"
      }
    },
    {
      "cell_type": "code",
      "source": [
        "x = [7, 4, 3, 2, 5]\n",
        "x.remove(5)\n",
        "print(x)"
      ],
      "metadata": {
        "colab": {
          "base_uri": "https://localhost:8080/"
        },
        "id": "3Cast6dT9aU2",
        "outputId": "c7efbaa9-8ef4-4eb4-8164-21288c9d7011"
      },
      "execution_count": 24,
      "outputs": [
        {
          "output_type": "stream",
          "name": "stdout",
          "text": [
            "[7, 4, 3, 2]\n"
          ]
        }
      ]
    },
    {
      "cell_type": "markdown",
      "source": [
        "Use the pop method by removing an item at the index you provide:\n",
        "z = [7, 5, 3, 3]\n",
        "print(z.???(???)) \n",
        "(x.pop(1))\n",
        "print(z)\n",
        "expected output: \n",
        "5\n",
        "[7, 3, 3]"
      ],
      "metadata": {
        "id": "2M-7cYR29gzY"
      }
    },
    {
      "cell_type": "code",
      "source": [
        "z = [7, 5, 3, 3]\n",
        "removed_item = z.pop(1)\n",
        "print(removed_item)\n",
        "print(z)\n"
      ],
      "metadata": {
        "colab": {
          "base_uri": "https://localhost:8080/"
        },
        "id": "lT58ye8T-P21",
        "outputId": "715f4b94-32e2-48d9-b4e1-933b48be9151"
      },
      "execution_count": 30,
      "outputs": [
        {
          "output_type": "stream",
          "name": "stdout",
          "text": [
            "5\n",
            "[7, 3, 3]\n"
          ]
        }
      ]
    },
    {
      "cell_type": "markdown",
      "source": [
        "Use the extend method to append 4 and 5 items in the list:\n",
        "x = [1, 2, 3]\n",
        "x.???([???]) \n",
        "x.extend(4,5)\n",
        "print(x)\n",
        "expected output: [1, 2, 3, 4, 5]\n"
      ],
      "metadata": {
        "id": "7jIyiocf-V1y"
      }
    },
    {
      "cell_type": "code",
      "source": [
        "x = [1, 2, 3]\n",
        "x.extend([4,5])\n",
        "print(x)\n"
      ],
      "metadata": {
        "colab": {
          "base_uri": "https://localhost:8080/"
        },
        "id": "1NHf34sp-ZHI",
        "outputId": "be7e623d-380e-4fd2-dfb0-e75fae0c5108"
      },
      "execution_count": 32,
      "outputs": [
        {
          "output_type": "stream",
          "name": "stdout",
          "text": [
            "[1, 2, 3, 4, 5]\n"
          ]
        }
      ]
    },
    {
      "cell_type": "markdown",
      "source": [
        "Use the insert method to insert items next to the defined index in the \n",
        "list:\n",
        "z = [1, 2, 3, 4, 5]\n",
        "z.???(4, [???]) \n",
        "z.insert(4, [1, 2]) \n",
        "print(z)\n",
        "output: [1, 2, 3, 4, [1, 2], 5]\n"
      ],
      "metadata": {
        "id": "J8zptXHD-vMc"
      }
    },
    {
      "cell_type": "code",
      "source": [
        "z = [1, 2, 3, 4, 5]\n",
        "z.insert(4, [1, 2]) \n",
        "print(z)\n"
      ],
      "metadata": {
        "colab": {
          "base_uri": "https://localhost:8080/"
        },
        "id": "dvZAMW1k-ymg",
        "outputId": "4b8b4af9-cf26-4f17-8e8e-4d2d079dec26"
      },
      "execution_count": 33,
      "outputs": [
        {
          "output_type": "stream",
          "name": "stdout",
          "text": [
            "[1, 2, 3, 4, [1, 2], 5]\n"
          ]
        }
      ]
    },
    {
      "cell_type": "markdown",
      "source": [
        "Determine errors and the expected output"
      ],
      "metadata": {
        "id": "CpY21y3a-7Al"
      }
    },
    {
      "cell_type": "code",
      "source": [
        "# importing library\n",
        "import numpy\n",
        "# initializing list\n",
        "lst = [1, 7, 0, 6, 2, 5, 6]\n",
        "# converting list to array\n",
        "arr = numpy.asarray(lst)\n",
        "# displaying list\n",
        "print(\"List:\", lst)\n",
        "# displaying array\n",
        "print(\"arr: \", arr)\n",
        "# made another array out of arr using asarray function\n",
        "arr1 = numpy.asarray(arr)\n",
        "#displaying arr1 before the changes made\n",
        "print(\"arr1: \" , arr1)\n",
        "#change made in arr1\n",
        "arr1[3] = 23\n",
        "#displaying arr1 , arr , list after the change has been made\n",
        "print(\"lst: \" , lst)\n",
        "print(\"arr1: \" , arr1)\n"
      ],
      "metadata": {
        "colab": {
          "base_uri": "https://localhost:8080/"
        },
        "id": "Vk-jwN4x--4r",
        "outputId": "bf6d7169-37ac-4d54-ae31-a1ab71e3aeca"
      },
      "execution_count": 34,
      "outputs": [
        {
          "output_type": "stream",
          "name": "stdout",
          "text": [
            "List: [1, 7, 0, 6, 2, 5, 6]\n",
            "arr:  [1 7 0 6 2 5 6]\n",
            "arr1:  [1 7 0 6 2 5 6]\n",
            "lst:  [1, 7, 0, 6, 2, 5, 6]\n",
            "arr1:  [ 1  7  0 23  2  5  6]\n"
          ]
        }
      ]
    }
  ]
}